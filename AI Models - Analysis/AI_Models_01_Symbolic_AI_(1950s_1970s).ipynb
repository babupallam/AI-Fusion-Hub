{
  "nbformat": 4,
  "nbformat_minor": 0,
  "metadata": {
    "colab": {
      "provenance": []
    },
    "kernelspec": {
      "name": "python3",
      "display_name": "Python 3"
    },
    "language_info": {
      "name": "python"
    }
  },
  "cells": [
    {
      "cell_type": "markdown",
      "source": [
        "# **Symbolic AI (1950s - 1970s)**\n"
      ],
      "metadata": {
        "id": "xxSePycZOkcH"
      }
    },
    {
      "cell_type": "markdown",
      "source": [
        "\n",
        "## **Introduction to Symbolic AI**\n",
        "Symbolic AI, also known as **Good Old-Fashioned AI (GOFAI)**, dominated the early years of artificial intelligence research (1950s–1970s). It was based on **explicitly programmed rules, logic, and symbols** to represent knowledge and reasoning. The idea was that human intelligence could be simulated using symbolic representations and rule-based reasoning.\n",
        "\n",
        "During this era, several key developments shaped the foundation of AI. Many of these systems relied on **logic, search algorithms, and expert systems** to solve problems.\n",
        "\n",
        "---\n",
        "\n"
      ],
      "metadata": {
        "id": "OGps6aA1Oke5"
      }
    },
    {
      "cell_type": "markdown",
      "source": [
        "## **Key Milestones in Symbolic AI**\n"
      ],
      "metadata": {
        "id": "sJ735UK1Okh8"
      }
    },
    {
      "cell_type": "markdown",
      "source": [
        "### **1. Logic Theorist (1956)**\n",
        "- Developed by **Allen Newell and Herbert A. Simon** at RAND Corporation.\n",
        "- Considered the **first artificial intelligence program**.\n",
        "- Designed to prove mathematical theorems in **Principia Mathematica** (by Whitehead and Russell).\n",
        "- It successfully proved **38 out of 52** theorems, and for some, it even found more elegant proofs than human mathematicians.\n",
        "\n",
        "#### **Significance**\n",
        "- Demonstrated that computers could perform symbolic reasoning.\n",
        "- Introduced the **search problem** in AI (heuristic search strategies).\n",
        "\n",
        "---\n",
        "\n"
      ],
      "metadata": {
        "id": "GraNSFiWOkkv"
      }
    },
    {
      "cell_type": "markdown",
      "source": [
        "### **2. Perceptron (1957)**\n",
        "- Invented by **Frank Rosenblatt**.\n",
        "- A type of **artificial neural network** that learned through supervised learning.\n",
        "- Could solve simple classification problems (e.g., pattern recognition).\n",
        "- Limited to **linearly separable problems** (Minsky & Papert, 1969 showed its limitations).\n",
        "\n",
        "#### **Significance**\n",
        "- Early foundation of **machine learning** and **neural networks**.\n",
        "- Inspired later deep learning models.\n",
        "\n",
        "---\n",
        "\n"
      ],
      "metadata": {
        "id": "f9IDeviVOknf"
      }
    },
    {
      "cell_type": "markdown",
      "source": [
        "### **3. General Problem Solver (1959)**\n",
        "- Developed by **Newell and Simon**.\n",
        "- Aimed to be a **universal problem-solving algorithm** that mimicked human reasoning.\n",
        "- Used means-end analysis to reduce problems into subproblems.\n",
        "\n",
        "#### **Significance**\n",
        "- Introduced **heuristic search** as a way to solve complex problems.\n",
        "- However, it struggled with real-world complexity.\n",
        "\n",
        "---\n",
        "\n"
      ],
      "metadata": {
        "id": "cHrFXqu-Okq1"
      }
    },
    {
      "cell_type": "markdown",
      "source": [
        "### **4. Adaline (1960)**\n",
        "- Developed by **Bernard Widrow and Marcian Hoff**.\n",
        "- Stands for **Adaptive Linear Neuron**.\n",
        "- An early type of **neural network** using **weight updates (learning rule)**.\n",
        "- Used in **pattern recognition and signal processing**.\n",
        "\n",
        "#### **Significance**\n",
        "- Led to **modern deep learning concepts** like gradient descent.\n",
        "\n",
        "---\n",
        "\n"
      ],
      "metadata": {
        "id": "8Z7XDqjWOktS"
      }
    },
    {
      "cell_type": "markdown",
      "source": [
        "### **5. ELIZA (1964)**\n",
        "- Developed by **Joseph Weizenbaum**.\n",
        "- A **natural language processing (NLP) chatbot** that mimicked a Rogerian psychotherapist.\n",
        "- Used **pattern matching and substitution rules** to simulate conversation.\n",
        "- Could not understand meaning, only structure.\n",
        "\n",
        "#### **Significance**\n",
        "- First **AI chatbot**, precursor to modern conversational agents (e.g., Siri, ChatGPT).\n",
        "- Highlighted the potential of **natural language processing**.\n",
        "\n",
        "---\n",
        "\n"
      ],
      "metadata": {
        "id": "uhpulHN_Okv2"
      }
    },
    {
      "cell_type": "markdown",
      "source": [
        "### **6. STUDENT (1964)**\n",
        "- Developed by **Daniel Bobrow**.\n",
        "- An early **natural language understanding (NLU) system** for algebra problems.\n",
        "- Could understand and solve simple word problems.\n",
        "\n",
        "#### **Significance**\n",
        "- Showed early progress in **semantic understanding** of language.\n",
        "- Inspired further research in **NLP and symbolic reasoning**.\n",
        "\n",
        "---\n",
        "\n"
      ],
      "metadata": {
        "id": "5eYM6ovGOkyy"
      }
    },
    {
      "cell_type": "markdown",
      "source": [
        "### **7. DENDRAL (1965)**\n",
        "- Developed by **Edward Feigenbaum, Joshua Lederberg, and Bruce Buchanan**.\n",
        "- The first **expert system** for chemistry.\n",
        "- Used **rule-based reasoning** to analyze **mass spectrometry data** for molecular structure identification.\n",
        "\n",
        "#### **Significance**\n",
        "- The first **domain-specific expert system**.\n",
        "- Pioneered **knowledge-based AI** and led to later **medical expert systems**.\n",
        "\n",
        "---\n",
        "\n"
      ],
      "metadata": {
        "id": "DQH68dJeOk1n"
      }
    },
    {
      "cell_type": "markdown",
      "source": [
        "### **8. SHRDLU (1968)**\n",
        "- Developed by **Terry Winograd** at MIT.\n",
        "- A **NLP system** that could interact with users in a **blocks world**.\n",
        "- Could understand **commands, reason, and manipulate objects** in a virtual environment.\n",
        "\n",
        "#### **Significance**\n",
        "- Showed how **syntax, semantics, and reasoning** could be combined.\n",
        "- However, it was limited to structured environments.\n",
        "\n",
        "---\n",
        "\n"
      ],
      "metadata": {
        "id": "MPPQSPaIOk4Z"
      }
    },
    {
      "cell_type": "markdown",
      "source": [
        "### **9. STRIPS (1971)**\n",
        "- Developed at **Stanford Research Institute**.\n",
        "- Stands for **Stanford Research Institute Problem Solver**.\n",
        "- Used for **automated planning** in robotics.\n",
        "- Created **formal rules for state-space search**.\n",
        "\n",
        "#### **Significance**\n",
        "- Formed the basis for modern **AI planning systems**.\n",
        "- Used in applications like **robotics, game AI, and automated scheduling**.\n",
        "\n",
        "---\n",
        "\n"
      ],
      "metadata": {
        "id": "MWsjY1_aOk7Y"
      }
    },
    {
      "cell_type": "markdown",
      "source": [
        "### **10. MYCIN (1972)**\n",
        "- Developed at **Stanford University**.\n",
        "- An **expert system** for **medical diagnosis** (bacterial infections).\n",
        "- Used **if-then rules** and **certainty factors** to handle uncertainty.\n",
        "\n",
        "#### **Significance**\n",
        "- One of the first **successful medical AI systems**.\n",
        "- Showed the power of **knowledge-based AI**.\n",
        "- Influenced later AI applications in **healthcare**.\n",
        "\n",
        "---\n",
        "\n"
      ],
      "metadata": {
        "id": "1R-tvfhzOk-G"
      }
    },
    {
      "cell_type": "markdown",
      "source": [
        "### **11. PROSPECTOR (1974)**\n",
        "- Developed to help in **geological exploration**.\n",
        "- An **expert system** for **mineral deposit predictions**.\n",
        "- Used rules based on **geological surveys**.\n",
        "\n",
        "#### **Significance**\n",
        "- One of the **earliest industrial AI applications**.\n",
        "- Inspired later **decision support systems**.\n",
        "\n",
        "---\n",
        "\n"
      ],
      "metadata": {
        "id": "dmGub-PQOlA-"
      }
    },
    {
      "cell_type": "markdown",
      "source": [
        "### **12. Early Expert Systems**\n",
        "- Expert systems emerged as a dominant **AI paradigm** in the 1970s.\n",
        "- Relied on **rule-based reasoning** to solve **domain-specific** problems.\n",
        "- Examples:\n",
        "  - **XCON (1978)**: Used for **computer configuration**.\n",
        "  - **PUFF (1979)**: Used in **lung disease diagnosis**.\n",
        "\n",
        "#### **Significance**\n",
        "- Led to **commercial AI adoption**.\n",
        "- However, expert systems were **hard to scale** due to knowledge engineering limitations.\n",
        "\n",
        "---\n",
        "\n"
      ],
      "metadata": {
        "id": "znve-te5OlEe"
      }
    },
    {
      "cell_type": "markdown",
      "source": [
        "## **Challenges of Symbolic AI**\n",
        "Despite its early success, Symbolic AI faced major challenges:\n",
        "1. **Scalability Issues** – Rules had to be manually programmed, making large-scale systems difficult to build.\n",
        "2. **Brittleness** – Could not handle **uncertainty, ambiguous data, or learning from experience**.\n",
        "3. **Lack of Common Sense** – Struggled with **context understanding** and human-like reasoning.\n",
        "4. **Failure of the Perceptron** – AI research slowed after Minsky & Papert (1969) showed that **single-layer perceptrons** had fundamental limits.\n",
        "\n",
        "---\n"
      ],
      "metadata": {
        "id": "gghJGOxfP0pK"
      }
    }
  ]
}